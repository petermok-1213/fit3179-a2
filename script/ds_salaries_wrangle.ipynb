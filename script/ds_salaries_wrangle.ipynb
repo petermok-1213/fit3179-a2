{
 "cells": [
  {
   "cell_type": "code",
   "execution_count": 1,
   "metadata": {},
   "outputs": [],
   "source": [
    "%reset -f\n",
    "import pandas as pd"
   ]
  },
  {
   "cell_type": "code",
   "execution_count": 3,
   "metadata": {},
   "outputs": [],
   "source": [
    "salary = pd.read_csv(\"../data/ds_salaries.csv\")\n",
    "country_code = pd.read_csv(\"../data/country_code.csv\")\n",
    "\n",
    "country_code = country_code[[\"name\", \"alpha-2\"]]"
   ]
  },
  {
   "cell_type": "code",
   "execution_count": 9,
   "metadata": {},
   "outputs": [],
   "source": [
    "for index, row in country_code.iterrows():\n",
    "    salary = salary.replace(row[\"alpha-2\"], row[\"name\"])"
   ]
  },
  {
   "cell_type": "code",
   "execution_count": null,
   "metadata": {},
   "outputs": [],
   "source": [
    "salary.to_csv(\"../data/ds_salary_cleaned.csv\")"
   ]
  }
 ],
 "metadata": {
  "kernelspec": {
   "display_name": "Python 3.10.6 ('fit3179')",
   "language": "python",
   "name": "python3"
  },
  "language_info": {
   "codemirror_mode": {
    "name": "ipython",
    "version": 3
   },
   "file_extension": ".py",
   "mimetype": "text/x-python",
   "name": "python",
   "nbconvert_exporter": "python",
   "pygments_lexer": "ipython3",
   "version": "3.10.6"
  },
  "orig_nbformat": 4,
  "vscode": {
   "interpreter": {
    "hash": "5a5ab1f47c49e9f408507ea9c3b3f4ecbcd3e38ecdaa9689b6c067601b7ad920"
   }
  }
 },
 "nbformat": 4,
 "nbformat_minor": 2
}
