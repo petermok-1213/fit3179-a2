{
 "cells": [
  {
   "cell_type": "code",
   "execution_count": 16,
   "metadata": {},
   "outputs": [],
   "source": [
    "%reset -f\n",
    "import pandas as pd"
   ]
  },
  {
   "cell_type": "code",
   "execution_count": 17,
   "metadata": {},
   "outputs": [],
   "source": [
    "salary = pd.read_csv(\"../data/ds_salaries.csv\")\n",
    "country_code = pd.read_csv(\"../data/country_code.csv\")\n",
    "\n",
    "country_code = country_code[[\"name\", \"alpha-2\"]]"
   ]
  },
  {
   "cell_type": "code",
   "execution_count": 19,
   "metadata": {},
   "outputs": [],
   "source": [
    "# change \"AU\" to \"Australia\" and etc, so that the final csv can be used with vega lite\n",
    "salary[\"employee_residence\"] = salary[\"employee_residence\"].replace(country_code[\"alpha-2\"].tolist(), country_code[\"name\"].tolist())\n",
    "salary[\"company_location\"] = salary[\"company_location\"].replace(country_code[\"alpha-2\"].tolist(), country_code[\"name\"].tolist())"
   ]
  },
  {
   "cell_type": "code",
   "execution_count": 22,
   "metadata": {},
   "outputs": [
    {
     "name": "stderr",
     "output_type": "stream",
     "text": [
      "/var/folders/nk/pq_9ypcs6_x5jdx99mrtszc80000gn/T/ipykernel_77034/2415717435.py:22: SettingWithCopyWarning: \n",
      "A value is trying to be set on a copy of a slice from a DataFrame\n",
      "\n",
      "See the caveats in the documentation: https://pandas.pydata.org/pandas-docs/stable/user_guide/indexing.html#returning-a-view-versus-a-copy\n",
      "  salary[\"salary\"][index] = float(row[\"salary\"]) * exchange_rate[row[\"salary_currency\"]]\n",
      "/var/folders/nk/pq_9ypcs6_x5jdx99mrtszc80000gn/T/ipykernel_77034/2415717435.py:23: SettingWithCopyWarning: \n",
      "A value is trying to be set on a copy of a slice from a DataFrame\n",
      "\n",
      "See the caveats in the documentation: https://pandas.pydata.org/pandas-docs/stable/user_guide/indexing.html#returning-a-view-versus-a-copy\n",
      "  salary[\"salary_currency\"][index] = \"USD\"\n"
     ]
    }
   ],
   "source": [
    "exchange_rate = {   # exchange rate between every currencies in the df and USD on 12/10/22\n",
    "    \"EUR\": 0.97,\n",
    "    \"USD\": 1.0,\n",
    "    \"GBP\": 1.11,\n",
    "    \"HUF\": 0.0023,\n",
    "    \"INR\": 0.012,\n",
    "    \"JPY\": 0.0068,\n",
    "    \"CNY\": 0.14,\n",
    "    \"MXN\": 0.05,\n",
    "    \"CAD\": 0.73,\n",
    "    \"DKK\": 0.13,\n",
    "    \"PLN\": 0.20,\n",
    "    \"SGD\": 0.7,\n",
    "    \"CLP\": 0.0011,\n",
    "    \"BRL\": 0.19,\n",
    "    \"TRY\": 0.054,\n",
    "    \"AUD\": 0.63,\n",
    "    \"CHF\": 1.0\n",
    "}\n",
    "\n",
    "for index, row in salary.iterrows():\n",
    "    salary[\"salary\"][index] = float(row[\"salary\"]) * exchange_rate[row[\"salary_currency\"]]\n",
    "    salary[\"salary_currency\"][index] = \"USD\""
   ]
  },
  {
   "cell_type": "code",
   "execution_count": null,
   "metadata": {},
   "outputs": [],
   "source": [
    "salary.to_csv(\"../data/ds_salary_cleaned.csv\")"
   ]
  },
  {
   "cell_type": "code",
   "execution_count": 14,
   "metadata": {},
   "outputs": [
    {
     "data": {
      "text/plain": [
       "70000"
      ]
     },
     "execution_count": 14,
     "metadata": {},
     "output_type": "execute_result"
    }
   ],
   "source": [
    "salary[\"salary\"][0]"
   ]
  }
 ],
 "metadata": {
  "kernelspec": {
   "display_name": "Python 3.10.6 ('fit3179')",
   "language": "python",
   "name": "python3"
  },
  "language_info": {
   "codemirror_mode": {
    "name": "ipython",
    "version": 3
   },
   "file_extension": ".py",
   "mimetype": "text/x-python",
   "name": "python",
   "nbconvert_exporter": "python",
   "pygments_lexer": "ipython3",
   "version": "3.10.6"
  },
  "orig_nbformat": 4,
  "vscode": {
   "interpreter": {
    "hash": "5a5ab1f47c49e9f408507ea9c3b3f4ecbcd3e38ecdaa9689b6c067601b7ad920"
   }
  }
 },
 "nbformat": 4,
 "nbformat_minor": 2
}
