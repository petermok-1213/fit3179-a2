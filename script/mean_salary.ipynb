{
 "cells": [
  {
   "cell_type": "code",
   "execution_count": 1,
   "metadata": {},
   "outputs": [],
   "source": [
    "%reset -f\n",
    "import pandas as pd\n",
    "import numpy as np"
   ]
  },
  {
   "cell_type": "markdown",
   "metadata": {},
   "source": [
    "# Deriving country_mean_salary.csv"
   ]
  },
  {
   "cell_type": "code",
   "execution_count": 2,
   "metadata": {},
   "outputs": [],
   "source": [
    "salary = pd.read_csv(\"../data/raw/ds_salaries.csv\")\n",
    "country_code = pd.read_csv(\"../data/raw/country_code.csv\")\n",
    "\n",
    "country_code = country_code[[\"name\", \"alpha-2\"]]"
   ]
  },
  {
   "cell_type": "code",
   "execution_count": 3,
   "metadata": {},
   "outputs": [],
   "source": [
    "# change \"AU\" to \"Australia\" and etc, so that the final csv can be used with vega lite\n",
    "salary[\"employee_residence\"] = salary[\"employee_residence\"].replace(country_code[\"alpha-2\"].tolist(), country_code[\"name\"].tolist())\n",
    "salary[\"company_location\"] = salary[\"company_location\"].replace(country_code[\"alpha-2\"].tolist(), country_code[\"name\"].tolist())"
   ]
  },
  {
   "cell_type": "code",
   "execution_count": 9,
   "metadata": {},
   "outputs": [],
   "source": [
    "temp = salary.replace({\n",
    "    \"United Kingdom of Great Britain and Northern Ireland\": \"UK\",\n",
    "    \"United States of America\": \"USA\",\n",
    "    \"Russian Federation\": \"Russia\"\n",
    "})\n",
    "temp.to_csv(\"../data/out/salaries.csv\")"
   ]
  },
  {
   "cell_type": "code",
   "execution_count": 5,
   "metadata": {},
   "outputs": [
    {
     "name": "stderr",
     "output_type": "stream",
     "text": [
      "/var/folders/nk/pq_9ypcs6_x5jdx99mrtszc80000gn/T/ipykernel_95796/4188345552.py:1: FutureWarning: The default value of numeric_only in DataFrameGroupBy.mean is deprecated. In a future version, numeric_only will default to False. Either specify numeric_only or select only columns which should be valid for the function.\n",
      "  country_mean_salary = salary.groupby(by=[\"employee_residence\"]).mean()\n"
     ]
    }
   ],
   "source": [
    "country_mean_salary = salary.groupby(by=[\"employee_residence\"]).mean()\n",
    "country_mean_salary = country_mean_salary[\"salary_in_usd\"].round(0).astype(int)"
   ]
  },
  {
   "cell_type": "code",
   "execution_count": 6,
   "metadata": {},
   "outputs": [],
   "source": [
    "all_country_mean = country_code.join(country_mean_salary, on=\"name\", how=\"left\")\n",
    "all_country_mean = all_country_mean.drop(columns=[\"alpha-2\"])\n",
    "all_country_mean[\"salary_in_usd\"] = all_country_mean[\"salary_in_usd\"].replace(np.nan, 0)\n",
    "all_country_mean[\"salary_in_usd\"] = all_country_mean[\"salary_in_usd\"].astype(int)"
   ]
  },
  {
   "cell_type": "code",
   "execution_count": 7,
   "metadata": {},
   "outputs": [],
   "source": [
    "all_country_mean.to_csv(\"../data/out/mean_salary.csv\")"
   ]
  }
 ],
 "metadata": {
  "kernelspec": {
   "display_name": "Python 3.10.6 ('fit3179')",
   "language": "python",
   "name": "python3"
  },
  "language_info": {
   "codemirror_mode": {
    "name": "ipython",
    "version": 3
   },
   "file_extension": ".py",
   "mimetype": "text/x-python",
   "name": "python",
   "nbconvert_exporter": "python",
   "pygments_lexer": "ipython3",
   "version": "3.10.6"
  },
  "orig_nbformat": 4,
  "vscode": {
   "interpreter": {
    "hash": "5a5ab1f47c49e9f408507ea9c3b3f4ecbcd3e38ecdaa9689b6c067601b7ad920"
   }
  }
 },
 "nbformat": 4,
 "nbformat_minor": 2
}
