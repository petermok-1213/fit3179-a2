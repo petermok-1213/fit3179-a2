{
 "cells": [
  {
   "cell_type": "code",
   "execution_count": 30,
   "metadata": {},
   "outputs": [],
   "source": [
    "%reset -f\n",
    "import pandas as pd\n",
    "import numpy as np"
   ]
  },
  {
   "cell_type": "markdown",
   "metadata": {},
   "source": [
    "# Deriving topbot_5country_mean.csv"
   ]
  },
  {
   "cell_type": "markdown",
   "metadata": {},
   "source": [
    "## Filtering out countries with less than 3 years of data"
   ]
  },
  {
   "cell_type": "code",
   "execution_count": 32,
   "metadata": {},
   "outputs": [],
   "source": [
    "mean_salary_year = pd.read_csv(\"../data/out/year_mean_salary.csv\")"
   ]
  },
  {
   "cell_type": "code",
   "execution_count": 41,
   "metadata": {},
   "outputs": [],
   "source": [
    "country_freq = {}\n",
    "for row in mean_salary_year.itertuples():\n",
    "    if row.employee_residence not in country_freq:\n",
    "        country_freq[row.employee_residence] = 1\n",
    "    else:\n",
    "        country_freq[row.employee_residence] += 1"
   ]
  },
  {
   "cell_type": "code",
   "execution_count": 47,
   "metadata": {},
   "outputs": [],
   "source": [
    "country_with_3years = [key for key, value in country_freq.items() if value == 3]\n",
    "mean_salary_year = mean_salary_year[mean_salary_year[\"employee_residence\"].isin(country_with_3years)]"
   ]
  },
  {
   "cell_type": "markdown",
   "metadata": {},
   "source": [
    "## Getting 5 countries with the highest average salary"
   ]
  },
  {
   "cell_type": "code",
   "execution_count": 60,
   "metadata": {},
   "outputs": [],
   "source": [
    "country_mean = mean_salary_year.groupby([\"employee_residence\"]).mean()\n",
    "top_five = country_mean.sort_values(by=\"salary_in_usd\", ascending=False)[0:5]\n",
    "temp = []\n",
    "for index, row in top_five.iterrows():\n",
    "    temp.append(index)\n",
    "top_five = temp"
   ]
  },
  {
   "cell_type": "markdown",
   "metadata": {},
   "source": [
    "## Getting the yearly salary for the top five countries"
   ]
  },
  {
   "cell_type": "code",
   "execution_count": 61,
   "metadata": {},
   "outputs": [],
   "source": [
    "mean_salary_year = mean_salary_year[mean_salary_year[\"employee_residence\"].isin(top_five)]"
   ]
  },
  {
   "cell_type": "markdown",
   "metadata": {},
   "source": [
    "## Exporting as csv"
   ]
  },
  {
   "cell_type": "code",
   "execution_count": 62,
   "metadata": {},
   "outputs": [],
   "source": [
    "mean_salary_year.to_csv(\"../data/out/top5_year_salaray.csv\")"
   ]
  }
 ],
 "metadata": {
  "kernelspec": {
   "display_name": "Python 3.10.6 ('fit3179')",
   "language": "python",
   "name": "python3"
  },
  "language_info": {
   "codemirror_mode": {
    "name": "ipython",
    "version": 3
   },
   "file_extension": ".py",
   "mimetype": "text/x-python",
   "name": "python",
   "nbconvert_exporter": "python",
   "pygments_lexer": "ipython3",
   "version": "3.10.6"
  },
  "orig_nbformat": 4,
  "vscode": {
   "interpreter": {
    "hash": "5a5ab1f47c49e9f408507ea9c3b3f4ecbcd3e38ecdaa9689b6c067601b7ad920"
   }
  }
 },
 "nbformat": 4,
 "nbformat_minor": 2
}
