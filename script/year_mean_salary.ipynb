{
 "cells": [
  {
   "cell_type": "code",
   "execution_count": 2,
   "metadata": {},
   "outputs": [],
   "source": [
    "%reset -f\n",
    "import pandas as pd\n",
    "import numpy as np"
   ]
  },
  {
   "cell_type": "markdown",
   "metadata": {},
   "source": [
    "# Deriving avg_salary_per_year.csv"
   ]
  },
  {
   "cell_type": "code",
   "execution_count": 3,
   "metadata": {},
   "outputs": [],
   "source": [
    "salary = pd.read_csv(\"../data/raw/ds_salaries.csv\")\n",
    "country_code = pd.read_csv(\"../data/raw/country_code.csv\")[[\"name\", \"alpha-2\"]]"
   ]
  },
  {
   "cell_type": "code",
   "execution_count": 4,
   "metadata": {},
   "outputs": [],
   "source": [
    "# change \"AU\" to \"Australia\" and etc, so that the final csv can be used with vega lite\n",
    "salary[\"employee_residence\"] = salary[\"employee_residence\"].replace(country_code[\"alpha-2\"].tolist(), country_code[\"name\"].tolist())\n",
    "salary[\"company_location\"] = salary[\"company_location\"].replace(country_code[\"alpha-2\"].tolist(), country_code[\"name\"].tolist())"
   ]
  },
  {
   "cell_type": "code",
   "execution_count": 16,
   "metadata": {},
   "outputs": [
    {
     "name": "stderr",
     "output_type": "stream",
     "text": [
      "/var/folders/nk/pq_9ypcs6_x5jdx99mrtszc80000gn/T/ipykernel_81754/2639914395.py:1: FutureWarning: The default value of numeric_only in DataFrameGroupBy.mean is deprecated. In a future version, numeric_only will default to False. Either specify numeric_only or select only columns which should be valid for the function.\n",
      "  country_year_mean_salary = salary.groupby([\"work_year\", \"employee_residence\"]).mean()\n"
     ]
    }
   ],
   "source": [
    "country_year_mean_salary = salary.groupby([\"work_year\", \"employee_residence\"]).mean()\n",
    "country_year_mean_salary = country_year_mean_salary.drop(columns=[\"Unnamed: 0\"])"
   ]
  },
  {
   "cell_type": "code",
   "execution_count": 17,
   "metadata": {},
   "outputs": [],
   "source": [
    "country_year_mean_salary.to_csv(\"../data/out/year_mean_salary.csv\")\n"
   ]
  }
 ],
 "metadata": {
  "kernelspec": {
   "display_name": "Python 3.10.6 ('fit3179')",
   "language": "python",
   "name": "python3"
  },
  "language_info": {
   "codemirror_mode": {
    "name": "ipython",
    "version": 3
   },
   "file_extension": ".py",
   "mimetype": "text/x-python",
   "name": "python",
   "nbconvert_exporter": "python",
   "pygments_lexer": "ipython3",
   "version": "3.10.6"
  },
  "orig_nbformat": 4,
  "vscode": {
   "interpreter": {
    "hash": "5a5ab1f47c49e9f408507ea9c3b3f4ecbcd3e38ecdaa9689b6c067601b7ad920"
   }
  }
 },
 "nbformat": 4,
 "nbformat_minor": 2
}
