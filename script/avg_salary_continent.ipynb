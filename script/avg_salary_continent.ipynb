{
 "cells": [
  {
   "cell_type": "code",
   "execution_count": 1,
   "metadata": {},
   "outputs": [],
   "source": [
    "%reset -f\n",
    "import pandas as pd\n",
    "import numpy as np"
   ]
  },
  {
   "cell_type": "code",
   "execution_count": 25,
   "metadata": {},
   "outputs": [],
   "source": [
    "salaries = pd.read_csv(\"../data/out/salaries.csv\")[[\"employee_residence\", \"salary_in_usd\"]]\n",
    "country_code = pd.read_csv(\"../data/raw/country_code.csv\")[[\"name\", \"alpha-2\", \"region\"]]"
   ]
  },
  {
   "cell_type": "code",
   "execution_count": 26,
   "metadata": {},
   "outputs": [],
   "source": [
    "salaries = salaries.rename(columns = {\"employee_residence\": \"name\"})\n",
    "salaries = salaries.merge(country_code, on=\"name\", how=\"inner\")"
   ]
  },
  {
   "cell_type": "code",
   "execution_count": 27,
   "metadata": {},
   "outputs": [
    {
     "name": "stderr",
     "output_type": "stream",
     "text": [
      "/var/folders/nk/pq_9ypcs6_x5jdx99mrtszc80000gn/T/ipykernel_15198/2128769844.py:1: FutureWarning: The default value of numeric_only in DataFrameGroupBy.mean is deprecated. In a future version, numeric_only will default to False. Either specify numeric_only or select only columns which should be valid for the function.\n",
      "  region_mean_salary = salaries.groupby(\"region\").mean()\n"
     ]
    }
   ],
   "source": [
    "region_mean_salary = salaries.groupby(\"region\").mean()"
   ]
  },
  {
   "cell_type": "code",
   "execution_count": null,
   "metadata": {},
   "outputs": [],
   "source": [
    "region_mean_salary.to_csv(\"../data/out/region_mean_salary.csv\")"
   ]
  }
 ],
 "metadata": {
  "kernelspec": {
   "display_name": "Python 3.10.6 ('fit3179')",
   "language": "python",
   "name": "python3"
  },
  "language_info": {
   "codemirror_mode": {
    "name": "ipython",
    "version": 3
   },
   "file_extension": ".py",
   "mimetype": "text/x-python",
   "name": "python",
   "nbconvert_exporter": "python",
   "pygments_lexer": "ipython3",
   "version": "3.10.6"
  },
  "orig_nbformat": 4,
  "vscode": {
   "interpreter": {
    "hash": "5a5ab1f47c49e9f408507ea9c3b3f4ecbcd3e38ecdaa9689b6c067601b7ad920"
   }
  }
 },
 "nbformat": 4,
 "nbformat_minor": 2
}
